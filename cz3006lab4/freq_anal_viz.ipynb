{
 "cells": [
  {
   "cell_type": "code",
   "execution_count": 1,
   "metadata": {},
   "outputs": [
    {
     "ename": "ModuleNotFoundError",
     "evalue": "No module named '_plotly_utils'",
     "output_type": "error",
     "traceback": [
      "\u001b[1;31m---------------------------------------------------------------------------\u001b[0m",
      "\u001b[1;31mModuleNotFoundError\u001b[0m                       Traceback (most recent call last)",
      "\u001b[1;32m<ipython-input-1-c955af769185>\u001b[0m in \u001b[0;36m<module>\u001b[1;34m\u001b[0m\n\u001b[0;32m      2\u001b[0m \u001b[1;32mimport\u001b[0m \u001b[0mnetworkx\u001b[0m \u001b[1;32mas\u001b[0m \u001b[0mnx\u001b[0m\u001b[1;33m\u001b[0m\u001b[1;33m\u001b[0m\u001b[0m\n\u001b[0;32m      3\u001b[0m \u001b[1;32mimport\u001b[0m \u001b[0mmatplotlib\u001b[0m\u001b[1;33m.\u001b[0m\u001b[0mpyplot\u001b[0m \u001b[1;32mas\u001b[0m \u001b[0mplt\u001b[0m\u001b[1;33m\u001b[0m\u001b[1;33m\u001b[0m\u001b[0m\n\u001b[1;32m----> 4\u001b[1;33m \u001b[1;32mimport\u001b[0m \u001b[0mplotly\u001b[0m\u001b[1;33m.\u001b[0m\u001b[0mexpress\u001b[0m \u001b[1;32mas\u001b[0m \u001b[0mpx\u001b[0m\u001b[1;33m\u001b[0m\u001b[1;33m\u001b[0m\u001b[0m\n\u001b[0m\u001b[0;32m      5\u001b[0m \u001b[1;33m\u001b[0m\u001b[0m\n\u001b[0;32m      6\u001b[0m df= pd.read_csv(r'C:\\Users\\phuaj\\Documents\\GitHub\\CZ-3006-Labs\\cz3006lab4\\test_SFLow_data.csv', index_col=False,names=['type','flow_agent_addr',\n",
      "\u001b[1;32m~\\anaconda3\\lib\\site-packages\\plotly\\__init__.py\u001b[0m in \u001b[0;36m<module>\u001b[1;34m\u001b[0m\n\u001b[0;32m     29\u001b[0m \u001b[1;32mimport\u001b[0m \u001b[0msys\u001b[0m\u001b[1;33m\u001b[0m\u001b[1;33m\u001b[0m\u001b[0m\n\u001b[0;32m     30\u001b[0m \u001b[1;32mfrom\u001b[0m \u001b[0mtyping\u001b[0m \u001b[1;32mimport\u001b[0m \u001b[0mTYPE_CHECKING\u001b[0m\u001b[1;33m\u001b[0m\u001b[1;33m\u001b[0m\u001b[0m\n\u001b[1;32m---> 31\u001b[1;33m \u001b[1;32mfrom\u001b[0m \u001b[0m_plotly_utils\u001b[0m\u001b[1;33m.\u001b[0m\u001b[0mimporters\u001b[0m \u001b[1;32mimport\u001b[0m \u001b[0mrelative_import\u001b[0m\u001b[1;33m\u001b[0m\u001b[1;33m\u001b[0m\u001b[0m\n\u001b[0m\u001b[0;32m     32\u001b[0m \u001b[1;33m\u001b[0m\u001b[0m\n\u001b[0;32m     33\u001b[0m \u001b[1;33m\u001b[0m\u001b[0m\n",
      "\u001b[1;31mModuleNotFoundError\u001b[0m: No module named '_plotly_utils'"
     ]
    }
   ],
   "source": [
    "import pandas as pd\n",
    "import networkx as nx\n",
    "import matplotlib.pyplot as plt\n",
    "import plotly.express as px\n",
    "\n",
    "df= pd.read_csv(r'C:\\Users\\phuaj\\Documents\\GitHub\\CZ-3006-Labs\\cz3006lab4\\test_SFLow_data.csv', index_col=False,names=['type','flow_agent_addr',\n",
    "'inputPort','outputPort','src_MAC','dst_MAC','eth_type','in_vlan','out_vlan',\n",
    "'src_IP','dst_IP','IP_Protocol','ip_tos','ip_ttl','src_port','dst_port',\n",
    "'tcp_flags','packet_size','IP_size','sampling_rate'])\n",
    "\n",
    "df.head()\n"
   ]
  },
  {
   "cell_type": "code",
   "execution_count": null,
   "metadata": {},
   "outputs": [],
   "source": [
    "ip_lookup = pd.read_csv(r\"C:\\Users\\phuaj\\Documents\\GitHub\\CZ-3006-Labs\\cz3006lab4\\ip_lookup.csv\",engine='python')\n",
    "ip_lookup.set_index('ip',inplace=True)\n",
    "ip_lookup.head()"
   ]
  },
  {
   "cell_type": "markdown",
   "metadata": {},
   "source": [
    "# Frequency Analysis"
   ]
  },
  {
   "cell_type": "markdown",
   "metadata": {},
   "source": [
    "## Top 5 Talkers"
   ]
  },
  {
   "cell_type": "code",
   "execution_count": null,
   "metadata": {},
   "outputs": [],
   "source": [
    "top5_talkers_ip = pd.DataFrame(df['src_IP'].value_counts()[:5])\n",
    "top5_talkers_ip= top5_talkers_ip.reset_index()\n",
    "top5_talkers_ip.columns = ['ip','count']\n",
    "top5_talkers_ip"
   ]
  },
  {
   "cell_type": "code",
   "execution_count": null,
   "metadata": {},
   "outputs": [],
   "source": [
    "orgs = []\n",
    "for ip in top5_talkers_ip['ip']:\n",
    "    try:\n",
    "        orgs.append(ip_lookup.at[ip,'org'])\n",
    "    except:\n",
    "        orgs.append(None)\n",
    "top5_talkers_ip['org'] = orgs\n",
    "top5_talkers_ip"
   ]
  },
  {
   "cell_type": "code",
   "execution_count": null,
   "metadata": {},
   "outputs": [],
   "source": [
    "fig = px.pie(top5_talkers_ip, values='count', names='org', title='Traffic Share Among Top 5 Talkers')\n",
    "fig.show()"
   ]
  },
  {
   "cell_type": "markdown",
   "metadata": {},
   "source": [
    "## Top 5 Listeners"
   ]
  },
  {
   "cell_type": "code",
   "execution_count": null,
   "metadata": {},
   "outputs": [],
   "source": [
    "top5_listeners_ip = pd.DataFrame(df['dst_IP'].value_counts()[:5])\n",
    "top5_listeners_ip = top5_listeners_ip.reset_index()\n",
    "top5_listeners_ip.columns = ['ip','count']\n",
    "top5_listeners_ip"
   ]
  },
  {
   "cell_type": "code",
   "execution_count": null,
   "metadata": {},
   "outputs": [],
   "source": [
    "orgs = []\n",
    "for ip in top5_listeners_ip['ip']:\n",
    "    try:\n",
    "        orgs.append(ip_lookup.at[ip,'org'])\n",
    "    except:\n",
    "        orgs.append(None)\n",
    "top5_listeners_ip['org'] = orgs\n",
    "top5_listeners_ip"
   ]
  },
  {
   "cell_type": "code",
   "execution_count": null,
   "metadata": {},
   "outputs": [],
   "source": [
    "fig = px.pie(top5_listeners_ip, values='count', names='org', title='Traffic Share Among Top 5 Talkers')\n",
    "fig.show()"
   ]
  },
  {
   "cell_type": "markdown",
   "metadata": {},
   "source": [
    "## Top 3 IP Protocols"
   ]
  },
  {
   "cell_type": "code",
   "execution_count": null,
   "metadata": {},
   "outputs": [],
   "source": [
    "top3_IP_Protocols = pd.DataFrame(df['IP_Protocol'].value_counts()[:3])\n",
    "top3_IP_Protocols = top3_IP_Protocols.reset_index()\n",
    "top3_IP_Protocols.columns = ['protocol id','count']\n",
    "top3_IP_Protocols"
   ]
  },
  {
   "cell_type": "code",
   "execution_count": null,
   "metadata": {},
   "outputs": [],
   "source": [
    "import socket\n",
    "prefix = \"IPPROTO_\"\n",
    "ip_protocol_name = {num:name[len(prefix):] \n",
    "          for name,num in vars(socket).items()\n",
    "            if name.startswith(prefix)}\n",
    "\n",
    "protocol_names =[]\n",
    "for pid in top3_IP_Protocols['protocol id'].tolist():\n",
    "    if pid in ip_protocol_name.keys():\n",
    "        protocol_names.append(str(pid)+' ({})'.format(ip_protocol_name[pid]))\n",
    "    else:\n",
    "        protocol_names.append(str(pid)+' (Unknown Protocol)')\n",
    "\n",
    "top3_IP_Protocols['Protocol'] = protocol_names\n",
    "\n",
    "top3_IP_Protocols\n"
   ]
  },
  {
   "cell_type": "code",
   "execution_count": null,
   "metadata": {},
   "outputs": [],
   "source": [
    "fig = px.pie(top3_IP_Protocols, values='count', names='Protocol', title='Traffic Share Among Top 3 IP Protocols')\n",
    "fig.show()"
   ]
  },
  {
   "cell_type": "code",
   "execution_count": null,
   "metadata": {},
   "outputs": [],
   "source": [
    "apps = []\n",
    "for index, row in df.iterrows():\n",
    "    if df.at[index,'IP_Protocol']==6:\n",
    "        protocol = 'tcp'\n",
    "    elif df.at[index,'IP_Protocol']==17:\n",
    "        protocol = 'udp'\n",
    "    else:\n",
    "        protocol = None\n",
    "    try:\n",
    "        app = socket.getservbyport(df.at[index,'outputPort'],protocol)+' ({})'.format(str(df.at[index,'outputPort']))\n",
    "    except:\n",
    "        app = None\n",
    "    apps.append(app)\n",
    "\n",
    "df['app'] = apps\n",
    "df.head()"
   ]
  },
  {
   "cell_type": "code",
   "execution_count": null,
   "metadata": {},
   "outputs": [],
   "source": [
    "top5_apps_protocol = df['app'].value_counts(dropna=True)[:5]\n",
    "top5_apps_protocol = top5_apps_protocol.reset_index()\n",
    "top5_apps_protocol.columns = ['app','count']\n",
    "top5_apps_protocol"
   ]
  },
  {
   "cell_type": "code",
   "execution_count": null,
   "metadata": {},
   "outputs": [],
   "source": [
    "fig = px.pie(top5_apps_protocol, values='count', names='app', title='Traffic Share Among Top 5 Application Protocols')\n",
    "fig.show()"
   ]
  },
  {
   "cell_type": "markdown",
   "metadata": {},
   "source": [
    "## Top 5 Communication Pairs"
   ]
  },
  {
   "cell_type": "code",
   "execution_count": null,
   "metadata": {},
   "outputs": [],
   "source": [
    "pairs={}\n",
    "for index, row in df.iterrows():\n",
    "    word1 = row['src_IP']+'/'+row['dst_IP']\n",
    "    word2 = row['dst_IP']+'/'+row['src_IP']\n",
    "    if word1 in pairs.keys():\n",
    "        pairs[word1]+=1\n",
    "    elif word2 in pairs.keys():\n",
    "        pairs[word2]+=1\n",
    "    else:\n",
    "        pairs[word1]=1\n",
    "\n",
    "pairs_sorted = sorted([(k,v) for k,v in pairs.items()], key= lambda x: x[1], reverse=True)\n",
    "\n",
    "pairs_sorted = pd.DataFrame(pairs_sorted[:5])\n",
    "pairs_sorted.columns = ['pair','count']\n",
    "pairs_sorted"
   ]
  },
  {
   "cell_type": "code",
   "execution_count": null,
   "metadata": {},
   "outputs": [],
   "source": [
    "org_pairs = []\n",
    "for pair in pairs_sorted['pair']:\n",
    "    ips = pair.split('/')\n",
    "    orgs = []\n",
    "    for ip in ips:\n",
    "        try:\n",
    "            orgs.append(ip_lookup.at[ip,'org'])\n",
    "        except:\n",
    "            orgs.append(None)\n",
    "    org_pairs.append('/'.join(orgs))\n",
    "pairs_sorted['org'] = org_pairs\n",
    "pairs_sorted"
   ]
  },
  {
   "cell_type": "code",
   "execution_count": null,
   "metadata": {},
   "outputs": [],
   "source": [
    "fig = px.pie(pairs_sorted, values='count', names='org', title='Traffic Share Among Top 5 Communication Pairs')\n",
    "fig.show()"
   ]
  }
 ],
 "metadata": {
  "kernelspec": {
   "display_name": "Python 3",
   "language": "python",
   "name": "python3"
  },
  "language_info": {
   "codemirror_mode": {
    "name": "ipython",
    "version": 3
   },
   "file_extension": ".py",
   "mimetype": "text/x-python",
   "name": "python",
   "nbconvert_exporter": "python",
   "pygments_lexer": "ipython3",
   "version": "3.8.3"
  }
 },
 "nbformat": 4,
 "nbformat_minor": 4
}
