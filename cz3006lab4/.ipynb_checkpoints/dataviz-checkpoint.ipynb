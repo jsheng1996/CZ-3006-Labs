{
 "cells": [
  {
   "cell_type": "code",
   "execution_count": 1,
   "metadata": {},
   "outputs": [],
   "source": [
    "import pandas as pd\n",
    "import networkx as nx\n",
    "import matplotlib.pyplot as plt\n",
    "\n",
    "df= pd.read_csv(r'C:\\Users\\phuaj\\Documents\\GitHub\\CZ-3006-Labs\\cz3006lab4\\test_SFLow_data.csv', index_col=False,names=['type','flow_agent_addr',\n",
    "'inputPort','outputPort','src_MAC','dst_MAC','eth_type','in_vlan','out_vlan',\n",
    "'src_IP','dst_IP','IP_Protocol','ip_tos','ip_ttl','src_port','dst_port',\n",
    "'tcp_flags','packet_size','IP_size','sampling_rate'])\n",
    "\n"
   ]
  },
  {
   "cell_type": "code",
   "execution_count": 2,
   "metadata": {},
   "outputs": [
    {
     "name": "stdout",
     "output_type": "stream",
     "text": [
      "Top 5 Talkers (IP):\n",
      "152.3.219.19       126\n",
      "207.241.228.157     66\n",
      "130.14.250.13       63\n",
      "193.62.192.8        46\n",
      "192.122.131.36      40\n",
      "Name: src_IP, dtype: int64\n",
      "\n",
      "\n",
      "Top 5 Listeners (IP):\n",
      "198.71.44.98      126\n",
      "103.37.198.100     98\n",
      "210.48.222.9       66\n",
      "137.132.228.15     50\n",
      "202.21.159.244     38\n",
      "Name: dst_IP, dtype: int64\n",
      "\n",
      "\n",
      "Top 3 IP Protocols:\n",
      "6     879\n",
      "50    140\n",
      "17    135\n",
      "Name: IP_Protocol, dtype: int64\n",
      "\n",
      "\n",
      "Top 5 Application Protocols:\n",
      "443      234\n",
      "0         82\n",
      "56152     82\n",
      "43930     45\n",
      "80        37\n",
      "Name: dst_port, dtype: int64\n",
      "\n",
      "\n",
      "Total traffic: 1079883 bytes\n",
      "\n"
     ]
    }
   ],
   "source": [
    "top5_talkers_ip = df['src_IP'].value_counts()[:5]\n",
    "top5_listeners_ip = df['dst_IP'].value_counts()[:5]\n",
    "\n",
    "tcp_count = df['IP_Protocol'].value_counts().get(6)\n",
    "udp_count = df['IP_Protocol'].value_counts().get(17)\n",
    "top3_IP_Protocols = df['IP_Protocol'].value_counts()[:3]\n",
    "\n",
    "top5_apps_protocol = df['dst_port'].value_counts()[:5]\n",
    "\n",
    "total_traffic = df['IP_size'].sum()\n",
    "\n",
    "print('Top 5 Talkers (IP):')\n",
    "print(top5_talkers_ip)\n",
    "print('\\n')\n",
    "   \n",
    "print('Top 5 Listeners (IP):')\n",
    "print(top5_listeners_ip)\n",
    "print('\\n')\n",
    "\n",
    "print('Top 3 IP Protocols:')\n",
    "print(top3_IP_Protocols)\n",
    "print('\\n')\n",
    "\n",
    "print('Top 5 Application Protocols:')\n",
    "print(top5_apps_protocol)\n",
    "print('\\n')\n",
    "\n",
    "print('Total traffic: {} bytes\\n'.format(total_traffic))"
   ]
  },
  {
   "cell_type": "code",
   "execution_count": 3,
   "metadata": {},
   "outputs": [
    {
     "name": "stdout",
     "output_type": "stream",
     "text": [
      "Additional stats:\n",
      "\n",
      "Top 5 communication pairs:\n",
      "[('152.3.219.19/198.71.44.98', 137), ('193.62.192.8/137.132.228.15', 81), ('207.241.228.157/210.48.222.9', 79), ('103.37.198.100/130.14.250.13', 70), ('216.58.203.234/192.122.131.36', 47)]\n",
      "\n"
     ]
    }
   ],
   "source": [
    "print('Additional stats:\\n')\n",
    "\n",
    "pairs={}\n",
    "for index, row in df.iterrows():\n",
    "    word1 = row['src_IP']+'/'+row['dst_IP']\n",
    "    word2 = row['dst_IP']+'/'+row['src_IP']\n",
    "    if word1 in pairs.keys():\n",
    "        pairs[word1]+=1\n",
    "    elif word2 in pairs.keys():\n",
    "        pairs[word2]+=1\n",
    "    else:\n",
    "        pairs[word1]=1\n",
    "\n",
    "pairs_sorted = sorted([(k,v) for k,v in pairs.items()], key= lambda x: x[1], reverse=True)\n",
    "\n",
    "print('Top 5 communication pairs:\\n{}\\n'.format(pairs_sorted[:5]))"
   ]
  },
  {
   "cell_type": "code",
   "execution_count": 4,
   "metadata": {},
   "outputs": [
    {
     "name": "stdout",
     "output_type": "stream",
     "text": [
      "Network visualised:\n",
      "\n"
     ]
    },
    {
     "data": {
      "image/png": "[encoded data removed]",
      "text/plain": [
       "<Figure size 432x288 with 1 Axes>"
      ]
     },
     "metadata": {},
     "output_type": "display_data"
    }
   ],
   "source": [
    "G = nx.Graph()\n",
    "nodes = list(set(df['src_IP'].tolist()+df['dst_IP'].tolist())) #creating nodes\n",
    "G.add_nodes_from(nodes)\n",
    "for (p,n) in pairs_sorted:\n",
    "    G.add_edge(p.split('/')[0], p.split('/')[1], weight=n)\n",
    "size = []\n",
    "for node in nodes:\n",
    "    if G.degree(node, weight='weight')<25:\n",
    "        #color.append('g')\n",
    "        size.append(5)\n",
    "    elif G.degree(node, weight='weight')<50:\n",
    "        #color.append('b')\n",
    "        size.append(10)\n",
    "    elif G.degree(node, weight='weight')<75:\n",
    "        #color.append('c')\n",
    "        size.append(15)\n",
    "    elif G.degree(node, weight='weight')<100:\n",
    "        #color.append('y')\n",
    "        size.append(20)\n",
    "    elif G.degree(node, weight='weight')<125:\n",
    "        #color.append('m')\n",
    "        size.append(25)\n",
    "    else:\n",
    "        #color.append('r')\n",
    "        size.append(30)\n",
    "edges = G.edges()\n",
    "weights = [G[u][v]['weight']/500 for u,v in edges]\n",
    "print('Network visualised:\\n')\n",
    "nx.draw_spring(G, node_size=size, node_color=range(len(nodes)), width=weights, cmap=plt.cm.bwr)\n"
   ]
  },
  {
   "cell_type": "markdown",
   "metadata": {},
   "source": [
    "# Geospatial visualization"
   ]
  },
  {
   "cell_type": "code",
   "execution_count": 5,
   "metadata": {},
   "outputs": [
    {
     "data": {
      "text/html": [
       "<div>\n",
       "<style scoped>\n",
       "    .dataframe tbody tr th:only-of-type {\n",
       "        vertical-align: middle;\n",
       "    }\n",
       "\n",
       "    .dataframe tbody tr th {\n",
       "        vertical-align: top;\n",
       "    }\n",
       "\n",
       "    .dataframe thead th {\n",
       "        text-align: right;\n",
       "    }\n",
       "</style>\n",
       "<table border=\"1\" class=\"dataframe\">\n",
       "  <thead>\n",
       "    <tr style=\"text-align: right;\">\n",
       "      <th></th>\n",
       "      <th>src_IP</th>\n",
       "      <th>dst_IP</th>\n",
       "    </tr>\n",
       "  </thead>\n",
       "  <tbody>\n",
       "    <tr>\n",
       "      <th>0</th>\n",
       "      <td>152.3.219.19</td>\n",
       "      <td>198.71.44.98</td>\n",
       "    </tr>\n",
       "    <tr>\n",
       "      <th>1</th>\n",
       "      <td>152.3.219.19</td>\n",
       "      <td>198.71.44.98</td>\n",
       "    </tr>\n",
       "    <tr>\n",
       "      <th>2</th>\n",
       "      <td>152.3.219.19</td>\n",
       "      <td>198.71.44.98</td>\n",
       "    </tr>\n",
       "    <tr>\n",
       "      <th>3</th>\n",
       "      <td>152.3.219.19</td>\n",
       "      <td>198.71.44.98</td>\n",
       "    </tr>\n",
       "    <tr>\n",
       "      <th>4</th>\n",
       "      <td>152.3.219.19</td>\n",
       "      <td>198.71.44.98</td>\n",
       "    </tr>\n",
       "  </tbody>\n",
       "</table>\n",
       "</div>"
      ],
      "text/plain": [
       "         src_IP        dst_IP\n",
       "0  152.3.219.19  198.71.44.98\n",
       "1  152.3.219.19  198.71.44.98\n",
       "2  152.3.219.19  198.71.44.98\n",
       "3  152.3.219.19  198.71.44.98\n",
       "4  152.3.219.19  198.71.44.98"
      ]
     },
     "execution_count": 5,
     "metadata": {},
     "output_type": "execute_result"
    }
   ],
   "source": [
    "df1 = df.loc[:, ('src_IP','dst_IP')]\n",
    "df1.head()"
   ]
  },
  {
   "cell_type": "code",
   "execution_count": 6,
   "metadata": {},
   "outputs": [
    {
     "name": "stdout",
     "output_type": "stream",
     "text": [
      "428\n",
      "379\n"
     ]
    }
   ],
   "source": [
    "import requests\n",
    "import ipaddress\n",
    "ips = list(set(df1['src_IP'].tolist()+df1['dst_IP'].tolist()))\n",
    "print(len(ips))\n",
    "valid_ips = []\n",
    "for ip in ips:\n",
    "    try:\n",
    "        ipaddress.ip_address(ip)\n",
    "        valid_ips.append(ip)\n",
    "    except:\n",
    "        pass\n",
    "print(len(valid_ips))"
   ]
  },
  {
   "cell_type": "markdown",
   "metadata": {},
   "source": [
    "## Batch ip-geoloaction lookup via ip-api.com"
   ]
  },
  {
   "cell_type": "code",
   "execution_count": 7,
   "metadata": {},
   "outputs": [],
   "source": [
    "res = requests.post(\"http://ip-api.com/batch\",json=valid_ips[:100]).json()\n",
    "res = pd.DataFrame(res)"
   ]
  },
  {
   "cell_type": "code",
   "execution_count": 8,
   "metadata": {},
   "outputs": [],
   "source": [
    "d={}\n",
    "for index, row in res.iterrows():\n",
    "    d[res.at[index,'query']] = [res.at[index,'lat'],res.at[index,'lon']]"
   ]
  },
  {
   "cell_type": "code",
   "execution_count": 9,
   "metadata": {},
   "outputs": [],
   "source": [
    "res = requests.post(\"http://ip-api.com/batch\",json=valid_ips[100:200]).json()\n",
    "res = pd.DataFrame(res)"
   ]
  },
  {
   "cell_type": "code",
   "execution_count": 10,
   "metadata": {},
   "outputs": [],
   "source": [
    "for index, row in res.iterrows():\n",
    "    d[res.at[index,'query']] = [res.at[index,'lat'],res.at[index,'lon']]"
   ]
  },
  {
   "cell_type": "code",
   "execution_count": 11,
   "metadata": {},
   "outputs": [],
   "source": [
    "res = requests.post(\"http://ip-api.com/batch\",json=valid_ips[200:300]).json()\n",
    "res = pd.DataFrame(res)"
   ]
  },
  {
   "cell_type": "code",
   "execution_count": 12,
   "metadata": {},
   "outputs": [],
   "source": [
    "for index, row in res.iterrows():\n",
    "    d[res.at[index,'query']] = [res.at[index,'lat'],res.at[index,'lon']]"
   ]
  },
  {
   "cell_type": "code",
   "execution_count": 13,
   "metadata": {},
   "outputs": [],
   "source": [
    "res = requests.post(\"http://ip-api.com/batch\",json=valid_ips[300:]).json()\n",
    "res = pd.DataFrame(res)"
   ]
  },
  {
   "cell_type": "code",
   "execution_count": 14,
   "metadata": {},
   "outputs": [
    {
     "name": "stdout",
     "output_type": "stream",
     "text": [
      "{'119.40.125.10': [2.9862, 101.7124], '207.241.228.157': [37.7823, -122.472], '134.196.45.111': [13.757, 100.565], '130.191.35.133': [32.7746, -117.0748], '137.132.32.247': [1.29754, 103.772], '74.125.10.23': [1.35208, 103.82], '137.189.192.25': [22.4197, 114.206], '130.230.81.9': [61.4498, 23.859], '155.69.253.5': [1.34712, 103.68], '14.139.159.162': [28.6542, 77.2373], '123.136.68.156': [1.29961, 103.788], '194.254.137.126': [49.9007, 2.2968], '54.243.104.69': [39.0438, -77.4874], '130.14.250.13': [39.0015, -77.0961], '103.237.142.250': [1.30286, 103.789], '14.139.34.26': [31.7126, 76.9328], '14.139.38.172': [26.4969, 80.3246], '140.138.144.170': [25.033, 121.565], '198.143.33.121': [34.0544, -118.2441], '193.62.193.8': [52.1929, 0.1256], '192.248.8.81': [7.25494, 80.5974], '155.69.253.4': [1.34712, 103.68], '202.6.241.24': [1.38755, 103.844], '103.5.182.13': [6.1173, 100.3596], '192.101.107.174': [46.3448, -119.279], '14.139.153.2': [12.9634, 77.5855], '206.87.224.81': [49.2301, -123.0869], '42.153.60.197': [3.1773, 101.7054], '202.6.241.90': [1.38755, 103.844], '128.173.217.6': [37.2532, -80.4347], '103.241.62.29': [1.33296, 103.894], '14.139.249.82': [28.9933, 77.021], '40.100.16.2': [3.139, 101.6868], '203.80.21.41': [2.92337, 101.656], '137.132.221.90': [1.29754, 103.772], '103.37.196.24': [1.29873, 103.787], '143.215.4.17': [33.8229, -84.3535], '74.125.200.104': [37.422, -122.084], '203.135.190.2': [4.46916, 101.041], '103.31.35.2': [1.8632, 103.0962], '50.112.109.24': [45.5235, -122.676], '155.69.196.157': [1.34712, 103.68], '167.205.22.102': [-6.9217, 107.6071], '74.125.10.25': [1.35208, 103.82], '103.237.142.249': [1.30286, 103.789], '14.139.160.245': [12.8996, 80.2209], '128.240.225.117': [54.9742, -1.615], '152.3.219.19': [35.9806, -78.8426], '172.217.27.4': [1.35208, 103.82], '124.197.82.28': [1.32525, 103.749], '203.30.39.11': [1.29548, 103.859], '137.132.46.73': [1.29754, 103.772], '140.111.1.2': [24.9466, 121.586], '133.39.224.12': [35.6916, 139.768], '137.132.19.118': [1.29754, 103.772], '152.61.133.67': [44.9778, -93.265], '23.199.85.190': [3.1686, 101.7035], '143.107.119.90': [-22.9434, -46.5581], '103.5.183.172': [6.26812, 100.422], '172.217.24.110': [1.35208, 103.82], '192.122.131.53': [1.29961, 103.788], '64.233.189.128': [37.422, -122.084], '173.194.22.203': [36.1219, -79.7777], '137.132.208.204': [1.29754, 103.772], '103.37.196.23': [1.29873, 103.787], '54.169.175.67': [1.28009, 103.851], '54.230.151.54': [1.35208, 103.82], '192.122.131.126': [1.29961, 103.788], '62.210.73.227': [48.8714, 2.32141], '74.125.200.136': [37.422, -122.084], '103.37.196.80': [1.29873, 103.787], '223.3.139.86': [32.0603, 118.797], '162.125.34.129': [40.7128, -74.006], '171.67.76.38': [37.4295, -122.178], '166.111.8.28': [39.9042, 116.407], '158.37.60.216': [59.9139, 10.7522], '202.6.241.85': [1.38755, 103.844], '130.88.161.1': [53.0022, -1.4348], '140.135.5.201': [24.9574, 121.241], '155.69.146.147': [1.34712, 103.68], '155.69.204.51': [1.34712, 103.68], '54.255.177.238': [1.28009, 103.851], '139.179.164.228': [39.9282, 32.8564], '155.69.196.106': [1.34712, 103.68], '74.125.200.100': [37.422, -122.084], '180.201.138.96': [37.4623, 118.501], '155.69.196.9': [1.34712, 103.68], '194.66.32.16': [52.4064, -1.5082], '202.6.242.63': [1.38755, 103.844], '131.193.191.3': [41.8719, -87.6589], '74.125.200.138': [37.422, -122.084], '123.136.64.58': [1.29961, 103.788], '130.246.176.56': [51.567, -1.78472], '193.61.196.206': [51.5026, -0.066], '123.136.65.217': [1.29961, 103.788], '202.127.1.76': [39.9042, 116.407], '74.125.130.93': [37.422, -122.084], '52.216.0.97': [39.0438, -77.4874], '193.62.193.9': [52.1929, 0.1256], '220.156.183.2': [1.3032, 103.793], '54.231.81.235': [39.0438, -77.4874], '198.71.44.169': [42.2338, -83.7289], '52.113.65.141': [1.352, 103.8198], '202.21.158.254': [1.44292, 103.785], '74.125.200.94': [37.422, -122.084], '172.217.27.10': [1.35208, 103.82], '193.49.97.157': [43.1211, 6.0114], '210.45.121.155': [31.7972, 117.346], '54.231.82.178': [39.0438, -77.4874], '137.132.3.10': [1.29754, 103.772], '155.69.220.104': [1.34712, 103.68], '140.110.122.99': [24.7826, 120.996], '218.197.152.189': [30.536, 114.364], '119.81.26.244': [1.35208, 103.82], '74.125.10.8': [37.422, -122.084], '35.1.58.93': [42.2709, -83.7268], '210.193.10.151': [1.32525, 103.749], '203.181.249.197': [35.6363, 139.6043], '137.132.190.84': [1.29754, 103.772], '52.216.64.225': [39.0438, -77.4874], '175.45.191.251': [-7.9826, 112.6308], '202.6.241.91': [1.38755, 103.844], '155.69.160.73': [1.34712, 103.68], '13.107.4.50': [43.6532, -79.3832], '202.179.252.18': [39.9997, 116.326], '64.233.188.128': [37.422, -122.084], '140.115.32.81': [24.9614, 121.2437], '155.69.160.38': [1.34712, 103.68], '130.194.11.52': [-37.8411, 144.9799], '31.207.47.120': [52.3763, 4.9077], '192.122.131.98': [1.29961, 103.788], '172.217.26.78': [3.15062, 101.67], '155.69.196.131': [1.34712, 103.68], '137.132.192.111': [1.29754, 103.772], '130.246.176.133': [51.567, -1.78472], '152.3.43.158': [36.0251, -78.9217], '137.132.15.18': [1.29754, 103.772], '74.125.200.132': [37.422, -122.084], '140.112.8.139': [25.033, 121.565], '155.69.253.6': [1.34712, 103.68], '134.160.228.4': [35.7907, 139.6203], '140.116.158.245': [24.9493, 121.337], '123.136.64.35': [1.29961, 103.788], '172.217.27.14': [1.35208, 103.82], '155.69.136.89': [1.34712, 103.68], '220.156.180.22': [1.3032, 103.793], '74.125.10.59': [1.35208, 103.82], '130.246.176.41': [51.567, -1.78472], '152.61.133.66': [44.9778, -93.265], '220.156.176.9': [1.3032, 103.793], '212.193.33.27': [59.8983, 30.2618], '129.164.179.22': [38.9586, -77.357], '130.14.250.7': [39.0015, -77.0961], '207.241.227.89': [37.7823, -122.472], '74.125.200.109': [37.422, -122.084], '155.69.253.130': [1.34712, 103.68], '137.132.97.44': [1.29754, 103.772], '103.252.172.206': [31.4143, 120.891], '155.69.195.52': [1.34712, 103.68], '14.139.5.10': [12.9634, 77.5855], '137.132.250.9': [1.29754, 103.772], '122.226.56.24': [29.1017, 119.654], '155.69.203.113': [1.34712, 103.68], '137.132.228.15': [1.29754, 103.772], '144.16.111.25': [28.5866, 77.2395], '23.58.231.16': [2.9304, 101.6627], '103.21.126.2': [19.0748, 72.8856], '104.44.201.170': [43.6532, -79.3832], '155.69.149.133': [1.34712, 103.68], '180.149.59.234': [28.5898, 77.2357], '203.185.93.2': [13.7586, 100.541], '14.139.246.22': [28.6328, 77.2204], '123.136.65.254': [1.29961, 103.788], '155.69.18.187': [1.34712, 103.68], '202.21.159.246': [1.44292, 103.785], '140.110.147.170': [24.144, 120.6844], '155.69.196.220': [1.34712, 103.68], '202.120.224.114': [40.0018, 116.333], '74.125.10.26': [1.35208, 103.82], '14.139.252.30': [28.7067, 77.8309], '210.48.222.9': [3.34944, 101.826], '23.58.255.181': [2.9304, 101.6627], '93.125.106.46': [53.9007, 27.5709], '172.217.27.5': [1.35208, 103.82], '137.132.22.254': [1.29754, 103.772], '35.185.129.8': [25.0329, 121.5654], '152.3.137.246': [35.961, -78.9291], '104.44.201.147': [43.6532, -79.3832], '155.69.160.69': [1.34712, 103.68], '130.246.176.135': [51.567, -1.78472], '129.10.135.121': [42.3427, -71.0922], '123.136.64.29': [1.29961, 103.788], '202.90.128.84': [14.6606, 121.0514], '14.139.239.194': [29.9478, 78.1628], '23.199.85.209': [3.1686, 101.7035], '74.125.10.7': [37.422, -122.084], '155.69.194.99': [1.34712, 103.68], '155.230.21.50': [35.8723, 128.5924], '202.158.196.131': [-35.2298, 149.106], '137.132.250.8': [1.29754, 103.772], '155.69.195.63': [1.34712, 103.68], '140.115.32.83': [24.9614, 121.2437], '192.170.230.228': [41.7821, -87.6046], '139.17.3.177': [52.3811, 13.0639], '129.132.99.164': [47.5128, 8.749], '137.132.21.27': [1.29754, 103.772], '134.109.108.8': [50.8191, 12.9419], '155.69.253.21': [1.34712, 103.68], '155.69.160.18': [1.34712, 103.68], '130.88.250.157': [53.5039, -2.1959], '193.146.75.128': [43.4611, -3.8021], '202.170.57.243': [5.32699, 100.273], '123.136.64.7': [1.29961, 103.788], '130.243.53.169': [60.4751, 15.3837], '40.96.1.194': [1.28239, 103.852], '202.21.158.37': [1.44292, 103.785], '74.125.68.125': [37.422, -122.084], '195.128.8.33': [51.816, 4.664], '119.81.26.242': [1.35208, 103.82], '137.132.223.91': [1.29754, 103.772], '130.211.14.80': [39.0997, -94.5785], '116.197.239.237': [1.32525, 103.749], '14.139.38.10': [26.4969, 80.3246], '74.125.68.108': [37.422, -122.084], '103.37.196.20': [1.29873, 103.787], '202.21.159.244': [1.44292, 103.785], '111.117.113.173': [41.8057, 123.431], '131.253.61.100': [43.6532, -79.3832], '155.69.195.196': [1.34712, 103.68], '74.125.10.9': [37.422, -122.084], '137.132.193.247': [1.29754, 103.772], '123.136.71.68': [1.29961, 103.788], '59.191.192.73': [-37.9163, 145.139], '40.100.29.194': [1.352, 103.8198], '165.21.83.88': [1.29199, 103.807], '155.69.204.78': [1.34712, 103.68], '13.228.72.193': [1.28009, 103.851], '123.136.64.31': [1.29961, 103.788], '103.86.131.113': [6.4312, 100.2048], '14.139.196.58': [26.1206, 91.6523], '137.132.196.133': [1.29754, 103.772], '123.136.64.32': [1.29961, 103.788], '159.226.5.131': [39.9042, 116.407], '123.136.64.33': [1.29961, 103.788], '193.60.231.143': [51.3926, -0.1977], '202.83.105.146': [1.30306, 103.908], '133.5.26.111': [33.5888, 130.4092], '59.189.9.239': [1.32429, 103.893], '155.69.150.18': [1.34712, 103.68], '23.50.80.155': [1.35208, 103.82], '192.122.131.36': [1.29961, 103.788], '198.143.39.33': [1.35208, 103.82], '31.13.78.17': [-36.8506, 174.7679], '192.88.99.1': [0.0, 0.0], '203.30.39.13': [1.29548, 103.859], '216.165.102.1': [40.7291, -73.9929], '155.69.17.79': [1.34712, 103.68], '74.125.10.12': [37.422, -122.084], '42.60.199.165': [1.29199, 103.807], '199.59.148.229': [37.7768, -122.416], '155.69.196.82': [1.34712, 103.68], '137.132.209.141': [1.29754, 103.772], '14.139.5.218': [12.9634, 77.5855], '150.65.7.130': [35.6906, 139.77], '128.32.189.230': [37.9395, -122.3242], '130.246.176.85': [51.567, -1.78472], '155.69.192.193': [1.34712, 103.68], '155.69.213.27': [1.34712, 103.68], '155.230.21.203': [35.8723, 128.5924], '40.96.2.130': [37.5747, 126.979], '209.85.229.247': [37.422, -122.084], '219.74.37.63': [1.43801, 103.789], '220.156.176.16': [1.3032, 103.793], '133.24.248.17': [35.6916, 139.768], '192.122.131.14': [1.29961, 103.788], '130.246.176.22': [51.567, -1.78472], '4.53.202.142': [38.5816, -121.494], '39.48.105.78': [27.707, 68.8525], '128.42.169.27': [29.7228, -95.4251], '192.33.14.30': [38.9567, -77.3623], '210.119.23.2': [36.3721, 127.36], '162.252.68.131': [42.2338, -83.7289], '54.231.120.4': [39.0438, -77.4874], '119.81.26.218': [1.35208, 103.82], '159.226.11.160': [39.9042, 116.407], '82.130.39.139': [60.205, 24.6455], '140.115.135.124': [25.0504, 121.5324], '140.116.214.241': [22.9917, 120.2148], '128.231.90.124': [38.9779, -77.0806], '140.112.30.26': [25.0504, 121.5324], '31.13.78.14': [-36.8506, 174.7679], '130.246.176.39': [51.567, -1.78472], '128.114.119.163': [37.0009, -122.061], '104.44.201.152': [43.6532, -79.3832], '130.246.176.54': [51.567, -1.78472], '103.37.198.100': [1.29873, 103.787], '120.126.194.131': [24.9466, 121.586], '192.101.107.153': [46.3448, -119.279], '157.240.7.35': [1.35208, 103.82], '152.61.133.130': [44.9778, -93.265], '137.132.243.174': [1.29754, 103.772], '52.74.216.114': [1.28009, 103.851], '104.72.104.114': [42.3649, -71.0889], '155.69.192.29': [1.34712, 103.68], '54.192.151.172': [1.35208, 103.82], '172.217.27.3': [1.35208, 103.82], '203.80.21.4': [2.92337, 101.656], '202.6.241.101': [1.38755, 103.844], '155.69.191.249': [1.34712, 103.68], '120.124.60.80': [24.9898, 121.232], '104.44.201.171': [43.6532, -79.3832], '13.76.218.117': [1.283, 103.833], '198.71.44.98': [42.2338, -83.7289], '155.69.193.45': [1.34712, 103.68], '137.132.243.142': [1.29754, 103.772], '123.136.64.68': [1.29961, 103.788], '155.69.17.235': [1.34712, 103.68], '74.125.200.102': [37.422, -122.084], '155.69.160.3': [1.34712, 103.68], '216.176.185.212': [47.614, -122.195], '137.222.0.78': [51.4535, -2.5917], '130.246.176.130': [51.567, -1.78472], '74.125.200.127': [37.422, -122.084], '203.106.67.128': [3.0384, 101.7105], '74.125.10.41': [1.35208, 103.82], '202.58.80.223': [3.0591, 101.5189], '216.58.203.234': [1.35208, 103.82], '202.158.207.20': [-35.2298, 149.106], '74.125.10.43': [1.35208, 103.82], '137.189.133.62': [22.2908, 114.1501], '74.125.10.24': [1.35208, 103.82], '202.46.129.68': [-7.28236, 112.795], '202.6.241.88': [1.38755, 103.844], '74.125.130.188': [37.422, -122.084], '31.13.78.52': [-36.8506, 174.7679], '137.132.3.12': [1.29754, 103.772], '130.246.176.37': [51.567, -1.78472], '202.6.241.92': [1.38755, 103.844], '137.132.232.252': [1.29754, 103.772], '106.10.137.175': [1.35208, 103.82], '203.80.20.66': [2.92337, 101.656], '140.115.32.82': [24.9614, 121.2437], '61.252.52.21': [37.5576, 126.9937], '203.110.242.21': [22.518, 88.3832], '155.69.132.144': [1.34712, 103.68], '148.187.64.127': [46.0241, 8.96005], '193.62.192.6': [52.1929, 0.1256], '203.80.16.132': [2.9269, 101.6971], '155.69.196.245': [1.34712, 103.68], '74.125.68.141': [37.422, -122.084], '131.225.67.12': [41.8478, -88.3075], '18.9.37.5': [42.3649, -71.0987], '180.149.61.69': [28.5898, 77.2354], '192.248.97.225': [6.0336, 80.2197], '155.69.196.194': [1.34712, 103.68], '216.58.221.78': [1.35208, 103.82], '198.71.44.39': [42.2338, -83.7289], '155.69.160.32': [1.34712, 103.68], '155.69.193.240': [1.34712, 103.68], '175.156.15.109': [1.32525, 103.749], '31.13.66.1': [39.0469, -77.4903], '202.12.27.33': [35.3882, 139.428], '172.217.27.1': [1.35208, 103.82], '138.246.2.202': [48.1787, 11.5617], '74.125.200.189': [37.422, -122.084], '203.181.248.70': [35.6363, 139.6043], '172.217.27.37': [1.35208, 103.82], '52.220.245.87': [1.28009, 103.851], '134.153.153.253': [47.55, -52.6667], '74.125.181.4': [50.85045, 4.34878], '74.125.10.39': [1.35208, 103.82], '54.192.148.21': [1.35208, 103.82], '130.14.29.35': [38.8341, -76.7974], '202.21.159.241': [1.44292, 103.785], '130.14.250.11': [39.0015, -77.0961], '202.21.159.190': [1.44292, 103.785], '220.156.176.5': [1.3032, 103.793], '193.62.192.8': [52.1929, 0.1256], '167.205.50.52': [-6.89148, 107.611]}\n"
     ]
    }
   ],
   "source": [
    "for index, row in res.iterrows():\n",
    "    d[res.at[index,'query']] = [res.at[index,'lat'],res.at[index,'lon']]\n",
    "print(d)"
   ]
  },
  {
   "cell_type": "code",
   "execution_count": 16,
   "metadata": {},
   "outputs": [
    {
     "data": {
      "text/html": [
       "<div>\n",
       "<style scoped>\n",
       "    .dataframe tbody tr th:only-of-type {\n",
       "        vertical-align: middle;\n",
       "    }\n",
       "\n",
       "    .dataframe tbody tr th {\n",
       "        vertical-align: top;\n",
       "    }\n",
       "\n",
       "    .dataframe thead th {\n",
       "        text-align: right;\n",
       "    }\n",
       "</style>\n",
       "<table border=\"1\" class=\"dataframe\">\n",
       "  <thead>\n",
       "    <tr style=\"text-align: right;\">\n",
       "      <th></th>\n",
       "      <th>src_IP</th>\n",
       "      <th>dst_IP</th>\n",
       "      <th>src_latlng</th>\n",
       "      <th>dst_latlng</th>\n",
       "    </tr>\n",
       "  </thead>\n",
       "  <tbody>\n",
       "    <tr>\n",
       "      <th>0</th>\n",
       "      <td>152.3.219.19</td>\n",
       "      <td>198.71.44.98</td>\n",
       "      <td>[35.9806, -78.8426]</td>\n",
       "      <td>[42.2338, -83.7289]</td>\n",
       "    </tr>\n",
       "    <tr>\n",
       "      <th>1</th>\n",
       "      <td>152.3.219.19</td>\n",
       "      <td>198.71.44.98</td>\n",
       "      <td>[35.9806, -78.8426]</td>\n",
       "      <td>[42.2338, -83.7289]</td>\n",
       "    </tr>\n",
       "    <tr>\n",
       "      <th>2</th>\n",
       "      <td>152.3.219.19</td>\n",
       "      <td>198.71.44.98</td>\n",
       "      <td>[35.9806, -78.8426]</td>\n",
       "      <td>[42.2338, -83.7289]</td>\n",
       "    </tr>\n",
       "    <tr>\n",
       "      <th>3</th>\n",
       "      <td>152.3.219.19</td>\n",
       "      <td>198.71.44.98</td>\n",
       "      <td>[35.9806, -78.8426]</td>\n",
       "      <td>[42.2338, -83.7289]</td>\n",
       "    </tr>\n",
       "    <tr>\n",
       "      <th>4</th>\n",
       "      <td>152.3.219.19</td>\n",
       "      <td>198.71.44.98</td>\n",
       "      <td>[35.9806, -78.8426]</td>\n",
       "      <td>[42.2338, -83.7289]</td>\n",
       "    </tr>\n",
       "  </tbody>\n",
       "</table>\n",
       "</div>"
      ],
      "text/plain": [
       "         src_IP        dst_IP           src_latlng           dst_latlng\n",
       "0  152.3.219.19  198.71.44.98  [35.9806, -78.8426]  [42.2338, -83.7289]\n",
       "1  152.3.219.19  198.71.44.98  [35.9806, -78.8426]  [42.2338, -83.7289]\n",
       "2  152.3.219.19  198.71.44.98  [35.9806, -78.8426]  [42.2338, -83.7289]\n",
       "3  152.3.219.19  198.71.44.98  [35.9806, -78.8426]  [42.2338, -83.7289]\n",
       "4  152.3.219.19  198.71.44.98  [35.9806, -78.8426]  [42.2338, -83.7289]"
      ]
     },
     "execution_count": 16,
     "metadata": {},
     "output_type": "execute_result"
    }
   ],
   "source": [
    "ips = d.keys()\n",
    "\n",
    "df1['src_latlng'] = None\n",
    "df1['dst_latlng'] = None\n",
    "\n",
    "for index, row in df1.iterrows():\n",
    "    \n",
    "    src_ip = df1.at[index,'src_IP']\n",
    "    if src_ip in ips:\n",
    "        df1.at[index,'src_latlng'] = d[src_ip]\n",
    "    \n",
    "    dst_ip = df1.at[index,'dst_IP']\n",
    "    if dst_ip in ips:\n",
    "        df1.at[index,'dst_latlng'] = d[dst_ip]\n",
    "\n",
    "df1.head()"
   ]
  },
  {
   "cell_type": "code",
   "execution_count": 22,
   "metadata": {},
   "outputs": [
    {
     "data": {
      "text/plain": [
       "<AxesSubplot:>"
      ]
     },
     "execution_count": 22,
     "metadata": {},
     "output_type": "execute_result"
    },
    {
     "data": {
      "image/png": "[encoded data removed]",
      "text/plain": [
       "<Figure size 432x288 with 1 Axes>"
      ]
     },
     "metadata": {
      "needs_background": "light"
     },
     "output_type": "display_data"
    }
   ],
   "source": [
    "from shapely.geometry import Point, Polygon\n",
    "import geopandas as gpd\n",
    "\n",
    "world_map = gpd.read_file(r'C:\\Users\\phuaj\\Documents\\GitHub\\CZ-3006-Labs\\cz3006lab4\\world-admin-boundaries\\world-administrative-boundaries.shp')\n",
    "world_map.plot()"
   ]
  },
  {
   "cell_type": "code",
   "execution_count": null,
   "metadata": {},
   "outputs": [],
   "source": []
  }
 ],
 "metadata": {
  "kernelspec": {
   "display_name": "Python 3",
   "language": "python",
   "name": "python3"
  },
  "language_info": {
   "codemirror_mode": {
    "name": "ipython",
    "version": 3
   },
   "file_extension": ".py",
   "mimetype": "text/x-python",
   "name": "python",
   "nbconvert_exporter": "python",
   "pygments_lexer": "ipython3",
   "version": "3.7.9"
  }
 },
 "nbformat": 4,
 "nbformat_minor": 4
}
